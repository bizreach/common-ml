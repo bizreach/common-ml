{
 "cells": [
  {
   "cell_type": "markdown",
   "metadata": {},
   "source": [
    "From Tensor SkFlow: https://github.com/tensorflow/tensorflow/blob/master/tensorflow/examples/skflow/iris_custom_model.py"
   ]
  },
  {
   "cell_type": "markdown",
   "metadata": {},
   "source": [
    "## Import"
   ]
  },
  {
   "cell_type": "code",
   "execution_count": null,
   "metadata": {
    "collapsed": false
   },
   "outputs": [],
   "source": [
    "from __future__ import absolute_import\n",
    "from __future__ import division\n",
    "from __future__ import print_function\n",
    "\n",
    "from sklearn import datasets, metrics, cross_validation\n",
    "from tensorflow.contrib import learn\n",
    "\n",
    "import chainer.functions as F\n",
    "import chainer.links as L\n",
    "from chainer import optimizers, Chain\n",
    "from commonml.skchainer import ChainerEstimator, SoftmaxCrossEntropyClassifier\n",
    "\n",
    "import logging\n",
    "logging.basicConfig(format='%(levelname)s : %(message)s', level=logging.INFO)\n",
    "logging.root.level = 20"
   ]
  },
  {
   "cell_type": "code",
   "execution_count": null,
   "metadata": {
    "collapsed": true
   },
   "outputs": [],
   "source": [
    "iris = datasets.load_iris()\n",
    "X_train, X_test, y_train, y_test = cross_validation.train_test_split(iris.data, iris.target,\n",
    "    test_size=0.2, random_state=42)"
   ]
  },
  {
   "cell_type": "code",
   "execution_count": null,
   "metadata": {
    "collapsed": false
   },
   "outputs": [],
   "source": [
    "class Model(Chain):\n",
    "\n",
    "    def __init__(self, in_size):\n",
    "        super(Model, self).__init__(l1=L.Linear(in_size, 10),\n",
    "                                    l2=L.Linear(10, 20),\n",
    "                                    l3=L.Linear(20, 10),\n",
    "                                    l4=L.Linear(10, 3),\n",
    "                                   )\n",
    "\n",
    "    def __call__(self, x, train=True):\n",
    "        h1 = F.relu(self.l1(x))\n",
    "        h2 = F.dropout(F.relu(self.l2(h1)), ratio=.1, train=train)\n",
    "        h3 = F.dropout(F.relu(self.l3(h2)), ratio=.1, train=train)\n",
    "        h4 = self.l4(h3)\n",
    "        return h4\n",
    "\n",
    "classifier = ChainerEstimator(model=SoftmaxCrossEntropyClassifier(Model(X_train.shape[1])),\n",
    "                              optimizer=optimizers.AdaGrad(lr=0.1),\n",
    "                              batch_size=100,\n",
    "                              device=0,\n",
    "                              stop_trigger=(100, 'epoch'))\n",
    "\n",
    "classifier.fit(X_train, y_train)\n",
    "score = metrics.accuracy_score(y_test, classifier.predict(X_test))\n",
    "print('Accuracy: {0:f}'.format(score))"
   ]
  }
 ],
 "metadata": {
  "kernelspec": {
   "display_name": "Python 2",
   "language": "python",
   "name": "python2"
  },
  "language_info": {
   "codemirror_mode": {
    "name": "ipython",
    "version": 2
   },
   "file_extension": ".py",
   "mimetype": "text/x-python",
   "name": "python",
   "nbconvert_exporter": "python",
   "pygments_lexer": "ipython2",
   "version": "2.7.11"
  }
 },
 "nbformat": 4,
 "nbformat_minor": 0
}
