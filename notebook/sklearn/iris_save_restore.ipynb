{
 "cells": [
  {
   "cell_type": "markdown",
   "metadata": {},
   "source": [
    "From Tensor SkFlow: https://github.com/tensorflow/tensorflow/blob/master/tensorflow/examples/skflow/iris_save_restore.py"
   ]
  },
  {
   "cell_type": "markdown",
   "metadata": {},
   "source": [
    "## Import"
   ]
  },
  {
   "cell_type": "code",
   "execution_count": null,
   "metadata": {
    "collapsed": true
   },
   "outputs": [],
   "source": [
    "from __future__ import absolute_import\n",
    "from __future__ import division\n",
    "from __future__ import print_function\n",
    "\n",
    "import os\n",
    "import shutil\n",
    "\n",
    "from sklearn import datasets, metrics, cross_validation\n",
    "from tensorflow.contrib import learn\n",
    "\n",
    "import chainer.functions as F\n",
    "import chainer.links as L\n",
    "from chainer import serializers, optimizers, Chain\n",
    "from commonml.sklearn import ChainerEstimator, SoftmaxCrossEntropyClassifier\n",
    "\n",
    "import logging\n",
    "logging.basicConfig(format='%(levelname)s : %(message)s', level=logging.INFO)\n",
    "logging.root.level = 20"
   ]
  },
  {
   "cell_type": "code",
   "execution_count": null,
   "metadata": {
    "collapsed": true
   },
   "outputs": [],
   "source": [
    "iris = datasets.load_iris()\n",
    "X_train, X_test, y_train, y_test = cross_validation.train_test_split(iris.data, iris.target,\n",
    "    test_size=0.2, random_state=42)"
   ]
  },
  {
   "cell_type": "code",
   "execution_count": null,
   "metadata": {
    "collapsed": false
   },
   "outputs": [],
   "source": [
    "class Model(Chain):\n",
    "\n",
    "    def __init__(self, in_size):\n",
    "        super(Model, self).__init__(l1=L.Linear(in_size, 3))\n",
    "\n",
    "    def __call__(self, x):\n",
    "        h1 = self.l1(x)\n",
    "        return h1\n",
    "\n",
    "classifier = ChainerEstimator(model=SoftmaxCrossEntropyClassifier(Model(X_train.shape[1])),\n",
    "                              optimizer=optimizers.AdaGrad(lr=0.1),\n",
    "                              batch_size=100,\n",
    "                              gpu=0,\n",
    "                              n_epoch=100)\n",
    "classifier.fit(X_train, y_train)\n",
    "score = metrics.accuracy_score(y_test, classifier.predict(X_test))\n",
    "print('Accuracy: {0:f}'.format(score))"
   ]
  },
  {
   "cell_type": "markdown",
   "metadata": {},
   "source": [
    "## Clean checkpoint folder if exists"
   ]
  },
  {
   "cell_type": "code",
   "execution_count": null,
   "metadata": {
    "collapsed": true
   },
   "outputs": [],
   "source": [
    "try:\n",
    "    shutil.rmtree('/tmp/chainer_examples')\n",
    "except OSError:\n",
    "    pass"
   ]
  },
  {
   "cell_type": "markdown",
   "metadata": {},
   "source": [
    "## Save model, parameters and learned variables."
   ]
  },
  {
   "cell_type": "code",
   "execution_count": null,
   "metadata": {
    "collapsed": false
   },
   "outputs": [],
   "source": [
    "os.makedirs('/tmp/chainer_examples/')\n",
    "serializers.save_hdf5('/tmp/chainer_examples/iris_custom_model', classifier.model.predictor)\n",
    "serializers.save_hdf5('/tmp/chainer_examples/iris_custom_optimizer', classifier.optimizer)\n",
    "classifier = None"
   ]
  },
  {
   "cell_type": "markdown",
   "metadata": {},
   "source": [
    "## Restore everything"
   ]
  },
  {
   "cell_type": "code",
   "execution_count": null,
   "metadata": {
    "collapsed": false
   },
   "outputs": [],
   "source": [
    "model = Model(X_train.shape[1])\n",
    "serializers.load_hdf5('/tmp/chainer_examples/iris_custom_model', model)\n",
    "new_classifier = ChainerEstimator(model=SoftmaxCrossEntropyClassifier(model),\n",
    "                                  optimizer=optimizers.AdaGrad(lr=0.1),\n",
    "                                  batch_size=100,\n",
    "                                  gpu=0,\n",
    "                                  n_epoch=100)\n",
    "serializers.load_hdf5('/tmp/chainer_examples/iris_custom_optimizer', new_classifier.optimizer)\n",
    "score = metrics.accuracy_score(y_test, new_classifier.predict(X_test))\n",
    "print('Accuracy: {0:f}'.format(score))"
   ]
  }
 ],
 "metadata": {
  "kernelspec": {
   "display_name": "Python 2",
   "language": "python",
   "name": "python2"
  },
  "language_info": {
   "codemirror_mode": {
    "name": "ipython",
    "version": 2
   },
   "file_extension": ".py",
   "mimetype": "text/x-python",
   "name": "python",
   "nbconvert_exporter": "python",
   "pygments_lexer": "ipython2",
   "version": "2.7.11"
  }
 },
 "nbformat": 4,
 "nbformat_minor": 0
}
