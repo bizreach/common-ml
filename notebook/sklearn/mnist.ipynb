{
 "cells": [
  {
   "cell_type": "markdown",
   "metadata": {},
   "source": [
    "From Tensor SkFlow: https://github.com/tensorflow/tensorflow/blob/master/tensorflow/examples/skflow/mnist.py"
   ]
  },
  {
   "cell_type": "markdown",
   "metadata": {},
   "source": [
    "## Import"
   ]
  },
  {
   "cell_type": "code",
   "execution_count": null,
   "metadata": {
    "collapsed": true
   },
   "outputs": [],
   "source": [
    "from __future__ import absolute_import\n",
    "from __future__ import division\n",
    "from __future__ import print_function\n",
    "\n",
    "from sklearn import metrics\n",
    "from tensorflow.contrib import learn\n",
    "\n",
    "import chainer.functions as F\n",
    "import chainer.links as L\n",
    "from chainer import optimizers, Chain\n",
    "from commonml.sklearn import ChainerEstimator, SoftmaxCrossEntropyClassifier\n",
    "\n",
    "import logging\n",
    "logging.basicConfig(format='%(levelname)s : %(message)s', level=logging.INFO)\n",
    "logging.root.level = 20"
   ]
  },
  {
   "cell_type": "markdown",
   "metadata": {},
   "source": [
    "## Download and load MNIST data."
   ]
  },
  {
   "cell_type": "code",
   "execution_count": null,
   "metadata": {
    "collapsed": false
   },
   "outputs": [],
   "source": [
    "mnist = learn.datasets.load_dataset('mnist')"
   ]
  },
  {
   "cell_type": "markdown",
   "metadata": {},
   "source": [
    "## Linear classifier."
   ]
  },
  {
   "cell_type": "code",
   "execution_count": null,
   "metadata": {
    "collapsed": false
   },
   "outputs": [],
   "source": [
    "class LinearModel(Chain):\n",
    "\n",
    "    def __init__(self, in_size):\n",
    "        super(LinearModel, self).__init__(l1=L.Linear(in_size, 10))\n",
    "\n",
    "    def __call__(self, x):\n",
    "        h1 = self.l1(x)\n",
    "        return h1\n",
    "\n",
    "classifier = ChainerEstimator(model=SoftmaxCrossEntropyClassifier(LinearModel(mnist.train.images.shape[1])),\n",
    "                              optimizer=optimizers.AdaGrad(lr=0.01),\n",
    "                              batch_size=100,\n",
    "                              gpu=0,\n",
    "                              n_epoch=100)\n",
    "classifier.fit(mnist.train.images, mnist.train.labels)\n",
    "score = metrics.accuracy_score(mnist.test.labels, classifier.predict(mnist.test.images))\n",
    "print('Accuracy: {0:f}'.format(score))"
   ]
  },
  {
   "cell_type": "markdown",
   "metadata": {},
   "source": [
    "## Convolutional network"
   ]
  },
  {
   "cell_type": "code",
   "execution_count": null,
   "metadata": {
    "collapsed": false
   },
   "outputs": [],
   "source": [
    "class Model(Chain):\n",
    "\n",
    "    def __init__(self):\n",
    "        super(Model, self).__init__(conv1=F.Convolution2D(1, 32, 5),\n",
    "                                    conv2=F.Convolution2D(32, 64, 5),\n",
    "                                    l3=L.Linear(64*4*4, 1024),\n",
    "                                    l4=L.Linear(1024, 10),\n",
    "                                   )\n",
    "\n",
    "    def __call__(self, x, train=True):\n",
    "        h1 = F.max_pooling_2d(F.relu(self.conv1(x)), 2)\n",
    "        h2 = F.max_pooling_2d(F.relu(self.conv2(h1)), 2)\n",
    "        h3 = F.dropout(F.relu(self.l3(h2)), ratio=.5, train=train)\n",
    "        h4 = self.l4(h3)\n",
    "        return h4\n",
    "\n",
    "classifier = ChainerEstimator(model=SoftmaxCrossEntropyClassifier(Model()),\n",
    "                              optimizer=optimizers.AdaGrad(lr=0.001),\n",
    "                              batch_size=100,\n",
    "                              gpu=0,\n",
    "                              n_epoch=100)\n",
    "\n",
    "classifier.fit(mnist.train.images.reshape((len(mnist.train.images), 1, 28, 28)), mnist.train.labels)\n",
    "score = metrics.accuracy_score(mnist.test.labels, classifier.predict(mnist.test.images.reshape((len(mnist.test.images), 1, 28, 28))))\n",
    "print('Accuracy: {0:f}'.format(score))"
   ]
  }
 ],
 "metadata": {
  "kernelspec": {
   "display_name": "Python 2",
   "language": "python",
   "name": "python2"
  },
  "language_info": {
   "codemirror_mode": {
    "name": "ipython",
    "version": 2
   },
   "file_extension": ".py",
   "mimetype": "text/x-python",
   "name": "python",
   "nbconvert_exporter": "python",
   "pygments_lexer": "ipython2",
   "version": "2.7.11"
  }
 },
 "nbformat": 4,
 "nbformat_minor": 0
}
