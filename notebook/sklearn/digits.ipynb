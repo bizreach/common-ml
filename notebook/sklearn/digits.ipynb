{
 "cells": [
  {
   "cell_type": "markdown",
   "metadata": {},
   "source": [
    "From Tensor SkFlow: https://github.com/tensorflow/tensorflow/blob/master/tensorflow/examples/skflow/digits.py"
   ]
  },
  {
   "cell_type": "markdown",
   "metadata": {},
   "source": [
    "## Import"
   ]
  },
  {
   "cell_type": "code",
   "execution_count": null,
   "metadata": {
    "collapsed": true
   },
   "outputs": [],
   "source": [
    "from __future__ import absolute_import\n",
    "from __future__ import division\n",
    "from __future__ import print_function\n",
    "\n",
    "from sklearn import datasets, cross_validation, metrics\n",
    "\n",
    "import chainer.functions as F\n",
    "import chainer.links as L\n",
    "from chainer import optimizers, Chain\n",
    "from commonml.sklearn import ChainerEstimator, SoftmaxCrossEntropyClassifier\n",
    "\n",
    "import logging\n",
    "logging.basicConfig(format='%(levelname)s : %(message)s', level=logging.INFO)\n",
    "logging.root.level = 20"
   ]
  },
  {
   "cell_type": "markdown",
   "metadata": {},
   "source": [
    "## Load dataset"
   ]
  },
  {
   "cell_type": "code",
   "execution_count": null,
   "metadata": {
    "collapsed": true
   },
   "outputs": [],
   "source": [
    "digits = datasets.load_digits()\n",
    "X = digits.images\n",
    "y = digits.target"
   ]
  },
  {
   "cell_type": "markdown",
   "metadata": {},
   "source": [
    "## Reshape"
   ]
  },
  {
   "cell_type": "code",
   "execution_count": null,
   "metadata": {
    "collapsed": true
   },
   "outputs": [],
   "source": [
    "X = X.reshape((len(X), 1, 8, 8))"
   ]
  },
  {
   "cell_type": "markdown",
   "metadata": {},
   "source": [
    "## Split it into train / test subsets"
   ]
  },
  {
   "cell_type": "code",
   "execution_count": null,
   "metadata": {
    "collapsed": true
   },
   "outputs": [],
   "source": [
    "X_train, X_test, y_train, y_test = cross_validation.train_test_split(X, y,\n",
    "                                                                     test_size=0.2,\n",
    "                                                                     random_state=42)"
   ]
  },
  {
   "cell_type": "markdown",
   "metadata": {},
   "source": [
    "## Create a classifier, train and predict."
   ]
  },
  {
   "cell_type": "code",
   "execution_count": null,
   "metadata": {
    "collapsed": false
   },
   "outputs": [],
   "source": [
    "class Model(Chain):\n",
    "\n",
    "    def __init__(self):\n",
    "        super(Model, self).__init__(conv1=F.Convolution2D(1, 12, 3),\n",
    "                                    l2=L.Linear(6*3*12, 10),\n",
    "                                   )\n",
    "\n",
    "    def __call__(self, x):\n",
    "        h1 = F.max_pooling_2d(F.relu(self.conv1(x)), (1, 2))\n",
    "        h2 = F.relu(self.l2(h1))\n",
    "        return h2\n",
    "\n",
    "classifier = ChainerEstimator(model=SoftmaxCrossEntropyClassifier(Model()),\n",
    "                              optimizer=optimizers.AdaGrad(lr=0.05),\n",
    "                              batch_size=128,\n",
    "                              gpu=0,\n",
    "                              n_epoch=100)\n",
    "\n",
    "classifier.fit(X_train, y_train)\n",
    "score = metrics.accuracy_score(y_test, classifier.predict(X_test))\n",
    "print('Test Accuracy: {0:f}'.format(score))"
   ]
  }
 ],
 "metadata": {
  "kernelspec": {
   "display_name": "Python 2",
   "language": "python",
   "name": "python2"
  },
  "language_info": {
   "codemirror_mode": {
    "name": "ipython",
    "version": 2
   },
   "file_extension": ".py",
   "mimetype": "text/x-python",
   "name": "python",
   "nbconvert_exporter": "python",
   "pygments_lexer": "ipython2",
   "version": "2.7.11"
  }
 },
 "nbformat": 4,
 "nbformat_minor": 0
}
