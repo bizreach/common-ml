{
 "cells": [
  {
   "cell_type": "markdown",
   "metadata": {},
   "source": [
    "## Import"
   ]
  },
  {
   "cell_type": "code",
   "execution_count": null,
   "metadata": {
    "collapsed": true
   },
   "outputs": [],
   "source": [
    "from sklearn.feature_extraction.text import TfidfVectorizer, CountVectorizer\n",
    "from commonml.text import CustomDictVectorizer\n",
    "from commonml import es\n",
    "import numpy as np"
   ]
  },
  {
   "cell_type": "markdown",
   "metadata": {},
   "source": [
    "## Definition"
   ]
  },
  {
   "cell_type": "code",
   "execution_count": null,
   "metadata": {
    "collapsed": false
   },
   "outputs": [],
   "source": [
    "analyzer_url = 'es://localhost:9200/.analyzer/kuromoji_neologd_analyzer'\n",
    "es_analyzer = es.build_analyzer(analyzer_url)\n",
    "vect = CustomDictVectorizer(vect_rules=[\n",
    "            {'name': 'title',\n",
    "             'vectorizer': CountVectorizer(tokenizer=es_analyzer,\n",
    "                                           max_df=0.8,\n",
    "                                           min_df=1,\n",
    "                                           dtype=np.float32)},\n",
    "            {'name': 'description',\n",
    "             'vectorizer': CountVectorizer(tokenizer=es_analyzer,\n",
    "                                           max_df=0.8,\n",
    "                                           min_df=1,\n",
    "                                           dtype=np.float32)}\n",
    "           ])\n"
   ]
  },
  {
   "cell_type": "markdown",
   "metadata": {},
   "source": [
    "## Data"
   ]
  },
  {
   "cell_type": "code",
   "execution_count": null,
   "metadata": {
    "collapsed": true
   },
   "outputs": [],
   "source": [
    "data_dict = [\n",
    "             {'title':'Test 1','description':'Aaa'},\n",
    "             {'title':'Test 2','description':'Bbb'}\n",
    "            ]"
   ]
  },
  {
   "cell_type": "markdown",
   "metadata": {},
   "source": [
    "## Fit"
   ]
  },
  {
   "cell_type": "code",
   "execution_count": null,
   "metadata": {
    "collapsed": false
   },
   "outputs": [],
   "source": [
    "vect.fit(data_dict)"
   ]
  },
  {
   "cell_type": "markdown",
   "metadata": {},
   "source": [
    "## Transform"
   ]
  },
  {
   "cell_type": "code",
   "execution_count": null,
   "metadata": {
    "collapsed": false
   },
   "outputs": [],
   "source": [
    "X = vect.transform(data_dict)\n",
    "for data in X:\n",
    "    print(data)\n"
   ]
  }
 ],
 "metadata": {
  "kernelspec": {
   "display_name": "Python 2",
   "language": "python",
   "name": "python2"
  },
  "language_info": {
   "codemirror_mode": {
    "name": "ipython",
    "version": 2
   },
   "file_extension": ".py",
   "mimetype": "text/x-python",
   "name": "python",
   "nbconvert_exporter": "python",
   "pygments_lexer": "ipython2",
   "version": "2.7.11"
  }
 },
 "nbformat": 4,
 "nbformat_minor": 0
}
